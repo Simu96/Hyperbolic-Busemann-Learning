{
 "cells": [
  {
   "cell_type": "code",
   "execution_count": 7,
   "id": "147b85a9",
   "metadata": {},
   "outputs": [],
   "source": [
    "import zipfile\n",
    "with zipfile.ZipFile('./CUB-DG.zip', 'r') as zip_ref:\n",
    "    zip_ref.extractall('./')"
   ]
  },
  {
   "cell_type": "code",
   "execution_count": 9,
   "id": "9c54077d",
   "metadata": {},
   "outputs": [
    {
     "name": "stdout",
     "output_type": "stream",
     "text": [
      "/home/work/Multi_modal_DG_modified/DG-Graph-eskim_graph/data_prototype/CUB-DG\n"
     ]
    }
   ],
   "source": [
    "cd CUB-DG"
   ]
  },
  {
   "cell_type": "code",
   "execution_count": 10,
   "id": "5a9768d9",
   "metadata": {},
   "outputs": [
    {
     "name": "stdout",
     "output_type": "stream",
     "text": [
      "\u001b[0m\u001b[01;34mArt\u001b[0m/      \u001b[01;34mPhoto\u001b[0m/       descriptions.json       split.json\r\n",
      "\u001b[01;34mCartoon\u001b[0m/  README       image_class_labels.txt  \u001b[01;34mtexts\u001b[0m/\r\n",
      "\u001b[01;34mPaint\u001b[0m/    classes.txt  images.txt              train_test_split.txt\r\n"
     ]
    }
   ],
   "source": [
    "ls"
   ]
  },
  {
   "cell_type": "code",
   "execution_count": 79,
   "id": "6949089b",
   "metadata": {},
   "outputs": [],
   "source": [
    "#split\n",
    "import os\n",
    "from os import path\n",
    "import shutil\n",
    "Photo_dir = \"Photo/\" # 다른 domain에서 split하려면 Cartoon/ 등으로 수정해서 가능\n",
    "Copy_train_dir = \"/home/work/Multi_modal_DG_modified/DG-Graph-eskim_graph/data_prototype/cub/train/\"\n",
    "Copy_test_dir = \"/home/work/Multi_modal_DG_modified/DG-Graph-eskim_graph/data_prototype/cub/test/\"\n",
    "\n",
    "# 1이 train\n",
    "f_images = open(\"images.txt\", \"r\")\n",
    "f_split = open(\"train_test_split.txt\", \"r\")\n",
    "while True:\n",
    "    line_images = f_images.readline()\n",
    "    line_split = f_split.readline()\n",
    "    if not line_images or not line_split: break\n",
    "        \n",
    "    line_images = line_images.split(' ')[1].strip()\n",
    "    line_images = line_images.split('/')\n",
    "    images_folder = line_images[0]\n",
    "    images_name = line_images[1]\n",
    "    #print(images_folder)\n",
    "    #print(images_name)\n",
    "    line_split = line_split.split(' ')[1].strip()\n",
    "    \n",
    "    file_list = os.listdir(Photo_dir + images_folder)\n",
    "    for file in file_list:\n",
    "        if file == images_name:\n",
    "            if line_split == '1': # train data\n",
    "                if not path.isdir(Copy_train_dir + images_folder + \"/\"):\n",
    "                    os.makedirs(Copy_train_dir + images_folder + \"/\")\n",
    "                shutil.copy(Photo_dir + images_folder + \"/\" + file, Copy_train_dir + images_folder + \"/\" + file)\n",
    "            else: # test data\n",
    "                if not path.isdir(Copy_test_dir + images_folder + \"/\"):\n",
    "                    os.makedirs(Copy_test_dir + images_folder + \"/\")\n",
    "                shutil.copy(Photo_dir + images_folder + \"/\" + file, Copy_test_dir + images_folder + \"/\" + file)\n",
    "                \n",
    "f_images.close()\n",
    "f_split.close()"
   ]
  },
  {
   "cell_type": "code",
   "execution_count": 2,
   "id": "ac9e8d74",
   "metadata": {},
   "outputs": [
    {
     "name": "stdout",
     "output_type": "stream",
     "text": [
      "train set: 5994\n",
      "test set: 5794\n"
     ]
    }
   ],
   "source": [
    "# train : 5994, test : 5794 개수 확인\n",
    "import os\n",
    "\n",
    "path = \"/home/work/Multi_modal_DG_modified/DG-Graph-eskim_graph/data_prototype/cub/train/\"\n",
    "num = 0\n",
    "for root, subdirs, files in os.walk(path):\n",
    "    for d in subdirs:\n",
    "        fullpath = root + '/' + d\n",
    "\n",
    "for root, subdirs, files in os.walk(path):\n",
    "    if len(files) > 0:\n",
    "        num += len(files)\n",
    "        \n",
    "print(\"train set: \" + str(num))\n",
    "\n",
    "num = 0\n",
    "path = \"/home/work/Multi_modal_DG_modified/DG-Graph-eskim_graph/data_prototype/cub/test/\"\n",
    "num = 0\n",
    "for root, subdirs, files in os.walk(path):\n",
    "    for d in subdirs:\n",
    "        fullpath = root + '/' + d\n",
    "\n",
    "for root, subdirs, files in os.walk(path):\n",
    "    if len(files) > 0:\n",
    "        num += len(files)\n",
    "        \n",
    "print(\"test set: \" + str(num))"
   ]
  }
 ],
 "metadata": {
  "kernelspec": {
   "display_name": "PyTorch 1.13 (NGC 22.05/Python 3.8 Conda) on Backend.AI",
   "language": "python",
   "name": "python3"
  },
  "language_info": {
   "codemirror_mode": {
    "name": "ipython",
    "version": 3
   },
   "file_extension": ".py",
   "mimetype": "text/x-python",
   "name": "python",
   "nbconvert_exporter": "python",
   "pygments_lexer": "ipython3",
   "version": "3.8.13"
  }
 },
 "nbformat": 4,
 "nbformat_minor": 5
}
